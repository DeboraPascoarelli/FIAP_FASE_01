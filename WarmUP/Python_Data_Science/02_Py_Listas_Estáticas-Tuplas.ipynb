{
 "cells": [
  {
   "cell_type": "markdown",
   "metadata": {},
   "source": [
    "#### WarmUp \n",
    "### Lista de Tuplas"
   ]
  },
  {
   "cell_type": "code",
   "execution_count": 1,
   "metadata": {},
   "outputs": [
    {
     "data": {
      "text/plain": [
       "('Jeta Variant', 'Passat', 'Crossfox', 'DS5')"
      ]
     },
     "execution_count": 1,
     "metadata": {},
     "output_type": "execute_result"
    }
   ],
   "source": [
    "nome_carros = ('Jeta Variant','Passat','Crossfox', 'DS5')\n",
    "nome_carros\n"
   ]
  },
  {
   "cell_type": "code",
   "execution_count": 2,
   "metadata": {},
   "outputs": [
    {
     "data": {
      "text/plain": [
       "'Jeta Variant'"
      ]
     },
     "execution_count": 2,
     "metadata": {},
     "output_type": "execute_result"
    }
   ],
   "source": [
    "# Acessando o primeiro item\n",
    "nome_carros[0]\n"
   ]
  },
  {
   "cell_type": "code",
   "execution_count": 3,
   "metadata": {},
   "outputs": [
    {
     "data": {
      "text/plain": [
       "'Passat'"
      ]
     },
     "execution_count": 3,
     "metadata": {},
     "output_type": "execute_result"
    }
   ],
   "source": [
    "# Acessando o segundo item\n",
    "nome_carros[1]\n"
   ]
  },
  {
   "cell_type": "code",
   "execution_count": 4,
   "metadata": {},
   "outputs": [
    {
     "data": {
      "text/plain": [
       "'DS5'"
      ]
     },
     "execution_count": 4,
     "metadata": {},
     "output_type": "execute_result"
    }
   ],
   "source": [
    "#Acessando o último item de uma tupla/lista\n",
    "nome_carros[-1]\n"
   ]
  },
  {
   "cell_type": "markdown",
   "metadata": {},
   "source": [
    "<span style=\"font-size:small; color:pink;\"> Também aprendemos a fazer fatiamentos (\"slices\") nas listas, lembrando que o ponto de início indicado é incluído no fatiamento (inclusive), mas o ponto de parada não (exclusive). Isso também ocorre com as tuplas. Em nosso exemplo, queremos que a tupla resultante mostre apenas os carros intermediários, \"Passat\" e \"Crossfox\". Para isso passaremos, depois da variável, [1:3] - ou seja, colchetes contendo a posição inicial do nosso fatiamento, o caractere dois pontos (:) e a posição final não-inclusiva (também chamada de exclusiva)."
   ]
  },
  {
   "cell_type": "code",
   "execution_count": 5,
   "metadata": {},
   "outputs": [
    {
     "data": {
      "text/plain": [
       "('Passat', 'Crossfox')"
      ]
     },
     "execution_count": 5,
     "metadata": {},
     "output_type": "execute_result"
    }
   ],
   "source": [
    "# Fatiamentos nas Listas (Slices) / o primeiro aparece e o segundo não (incluso e excluso)\n",
    "nome_carros[1:3]\n"
   ]
  },
  {
   "cell_type": "markdown",
   "metadata": {},
   "source": [
    "##### Tuplas dentro de Tuplas"
   ]
  },
  {
   "cell_type": "code",
   "execution_count": 6,
   "metadata": {},
   "outputs": [
    {
     "data": {
      "text/plain": [
       "('Jeta Variant', 'Passat', 'Crossfox', 'DS5', ('Fusca', 'Gol', 'C4'))"
      ]
     },
     "execution_count": 6,
     "metadata": {},
     "output_type": "execute_result"
    }
   ],
   "source": [
    "# Neste caso temos índice de 0 a 4, pois tudo o que está dentro do segundo parenteses é considerado 1 item\n",
    "nome_carros = ('Jeta Variant','Passat','Crossfox', 'DS5',('Fusca','Gol','C4'))\n",
    "nome_carros\n"
   ]
  },
  {
   "cell_type": "code",
   "execution_count": 7,
   "metadata": {},
   "outputs": [
    {
     "data": {
      "text/plain": [
       "('Fusca', 'Gol', 'C4')"
      ]
     },
     "execution_count": 7,
     "metadata": {},
     "output_type": "execute_result"
    }
   ],
   "source": [
    "nome_carros[4]\n"
   ]
  },
  {
   "cell_type": "code",
   "execution_count": 8,
   "metadata": {},
   "outputs": [
    {
     "data": {
      "text/plain": [
       "('Fusca', 'Gol', 'C4')"
      ]
     },
     "execution_count": 8,
     "metadata": {},
     "output_type": "execute_result"
    }
   ],
   "source": [
    "nome_carros[-1]\n"
   ]
  },
  {
   "cell_type": "code",
   "execution_count": 9,
   "metadata": {},
   "outputs": [
    {
     "data": {
      "text/plain": [
       "'Gol'"
      ]
     },
     "execution_count": 9,
     "metadata": {},
     "output_type": "execute_result"
    }
   ],
   "source": [
    "# Acessando o carro Gol / [-1] --> traz a tupla encapsulada dentro do primeiro parenteses e [1]--> é o segundo elemento da tupla encapsulada\n",
    "# 1° acesso o ultimo item da tupla geral e depois vejo o índice dessa tupla (2° tupla) que eu quero trazer o resultado\n",
    "nome_carros[-1][1]\n"
   ]
  },
  {
   "cell_type": "markdown",
   "metadata": {},
   "source": [
    "Exercícios"
   ]
  },
  {
   "cell_type": "code",
   "execution_count": 10,
   "metadata": {},
   "outputs": [],
   "source": [
    "carros = (\n",
    "    (\n",
    "        'Jetta Variant',\n",
    "        'Motor 4.0 Turbo',\n",
    "        2003,\n",
    "        False,\n",
    "        ('Rodas de liga', 'Travas elétricas', 'Piloto automático')\n",
    "    ), # Tupla 1\n",
    "    (\n",
    "        'Passat',\n",
    "        'Motor Diesel',\n",
    "        1991,\n",
    "        True,\n",
    "        ('Central multimídia', 'Teto panorâmico', 'Freios ABS')\n",
    "    )\n",
    ")\n"
   ]
  },
  {
   "cell_type": "markdown",
   "metadata": {},
   "source": [
    "01)"
   ]
  },
  {
   "cell_type": "code",
   "execution_count": 11,
   "metadata": {},
   "outputs": [
    {
     "data": {
      "text/plain": [
       "False"
      ]
     },
     "execution_count": 11,
     "metadata": {},
     "output_type": "execute_result"
    }
   ],
   "source": [
    "carros[0][3]\n"
   ]
  },
  {
   "cell_type": "markdown",
   "metadata": {},
   "source": [
    "2."
   ]
  },
  {
   "cell_type": "code",
   "execution_count": 12,
   "metadata": {},
   "outputs": [
    {
     "data": {
      "text/plain": [
       "('Passat',\n",
       " 'Motor Diesel',\n",
       " 1991,\n",
       " True,\n",
       " ('Central multimídia', 'Teto panorâmico', 'Freios ABS'))"
      ]
     },
     "execution_count": 12,
     "metadata": {},
     "output_type": "execute_result"
    }
   ],
   "source": [
    "carros[-1] # Temos 2 tuplas - 1 em cada parenteses / traz o conteúdo do segundo parenteses\n"
   ]
  },
  {
   "cell_type": "code",
   "execution_count": 13,
   "metadata": {},
   "outputs": [
    {
     "data": {
      "text/plain": [
       "('Central multimídia', 'Teto panorâmico', 'Freios ABS')"
      ]
     },
     "execution_count": 13,
     "metadata": {},
     "output_type": "execute_result"
    }
   ],
   "source": [
    "carros[-1][-1] # Tras ('Central multimídia', 'Teto panorâmico', 'Freios ABS')\n"
   ]
  },
  {
   "cell_type": "code",
   "execution_count": 14,
   "metadata": {},
   "outputs": [
    {
     "data": {
      "text/plain": [
       "'Freios ABS'"
      ]
     },
     "execution_count": 14,
     "metadata": {},
     "output_type": "execute_result"
    }
   ],
   "source": [
    "carros[-1][-1][-1] # Traz Freios ABS\n"
   ]
  },
  {
   "cell_type": "markdown",
   "metadata": {},
   "source": [
    "3."
   ]
  },
  {
   "cell_type": "code",
   "execution_count": 15,
   "metadata": {},
   "outputs": [
    {
     "data": {
      "text/plain": [
       "('Jetta Variant',\n",
       " 'Motor 4.0 Turbo',\n",
       " 2003,\n",
       " False,\n",
       " ('Rodas de liga', 'Travas elétricas', 'Piloto automático'))"
      ]
     },
     "execution_count": 15,
     "metadata": {},
     "output_type": "execute_result"
    }
   ],
   "source": [
    "carros[0] # Traz o conteúdo do primeiro parenteses\n"
   ]
  },
  {
   "cell_type": "code",
   "execution_count": 16,
   "metadata": {},
   "outputs": [
    {
     "data": {
      "text/plain": [
       "('Rodas de liga', 'Travas elétricas', 'Piloto automático')"
      ]
     },
     "execution_count": 16,
     "metadata": {},
     "output_type": "execute_result"
    }
   ],
   "source": [
    "carros[0][-1] # Traz ('Rodas de liga', 'Travas elétricas', 'Piloto automático')\n"
   ]
  },
  {
   "cell_type": "code",
   "execution_count": 17,
   "metadata": {},
   "outputs": [
    {
     "data": {
      "text/plain": [
       "('Rodas de liga', 'Travas elétricas')"
      ]
     },
     "execution_count": 17,
     "metadata": {},
     "output_type": "execute_result"
    }
   ],
   "source": [
    "carros[0][-1][:2] # Vai trazer os 2 primeiros itens da Tupla acima e não vai trazer o terceiro iten = 2 \n"
   ]
  },
  {
   "cell_type": "markdown",
   "metadata": {},
   "source": [
    "Resposta:\n",
    "False, Freios ABS, ('Rodas de liga', 'Travas elétricas')"
   ]
  },
  {
   "cell_type": "markdown",
   "metadata": {},
   "source": [
    "##### Iterando em Tuplas"
   ]
  },
  {
   "cell_type": "code",
   "execution_count": 18,
   "metadata": {},
   "outputs": [
    {
     "data": {
      "text/plain": [
       "('Jeta Variant', 'Passat', 'Crossfox', 'DS5')"
      ]
     },
     "execution_count": 18,
     "metadata": {},
     "output_type": "execute_result"
    }
   ],
   "source": [
    "nome_carros = ('Jeta Variant','Passat','Crossfox', 'DS5')\n",
    "nome_carros\n"
   ]
  },
  {
   "cell_type": "code",
   "execution_count": 19,
   "metadata": {},
   "outputs": [
    {
     "name": "stdout",
     "output_type": "stream",
     "text": [
      "Jeta Variant\n",
      "Passat\n",
      "Crossfox\n",
      "DS5\n"
     ]
    }
   ],
   "source": [
    "# for item in: traz em formato de lista\n",
    "for item in nome_carros:\n",
    "    print(item)\n"
   ]
  },
  {
   "cell_type": "markdown",
   "metadata": {},
   "source": [
    "Desempacotamento de Tuplas"
   ]
  },
  {
   "cell_type": "code",
   "execution_count": 20,
   "metadata": {},
   "outputs": [
    {
     "data": {
      "text/plain": [
       "('Jeta Variant', 'Passat', 'Crossfox', 'DS5')"
      ]
     },
     "execution_count": 20,
     "metadata": {},
     "output_type": "execute_result"
    }
   ],
   "source": [
    "nome_carros = ('Jeta Variant','Passat','Crossfox', 'DS5')\n",
    "nome_carros\n"
   ]
  },
  {
   "cell_type": "code",
   "execution_count": 22,
   "metadata": {},
   "outputs": [],
   "source": [
    "# Basicamente, é possível atribuirmos cada valor dentro de uma tupla a uma variável específica\n",
    "# Atribui cada item ao carro específico e na ordem\n",
    "carro_1, carro_2, carro_3, carro_4 = nome_carros\n"
   ]
  },
  {
   "cell_type": "code",
   "execution_count": 24,
   "metadata": {},
   "outputs": [
    {
     "data": {
      "text/plain": [
       "'Jeta Variant'"
      ]
     },
     "execution_count": 24,
     "metadata": {},
     "output_type": "execute_result"
    }
   ],
   "source": [
    "carro_1\n"
   ]
  },
  {
   "cell_type": "code",
   "execution_count": 25,
   "metadata": {},
   "outputs": [
    {
     "data": {
      "text/plain": [
       "'Passat'"
      ]
     },
     "execution_count": 25,
     "metadata": {},
     "output_type": "execute_result"
    }
   ],
   "source": [
    "carro_2\n"
   ]
  },
  {
   "cell_type": "code",
   "execution_count": 26,
   "metadata": {},
   "outputs": [
    {
     "data": {
      "text/plain": [
       "'Crossfox'"
      ]
     },
     "execution_count": 26,
     "metadata": {},
     "output_type": "execute_result"
    }
   ],
   "source": [
    "carro_3\n"
   ]
  },
  {
   "cell_type": "code",
   "execution_count": 27,
   "metadata": {},
   "outputs": [
    {
     "data": {
      "text/plain": [
       "'DS5'"
      ]
     },
     "execution_count": 27,
     "metadata": {},
     "output_type": "execute_result"
    }
   ],
   "source": [
    "carro_4\n"
   ]
  },
  {
   "cell_type": "markdown",
   "metadata": {},
   "source": [
    "<span style=\"font-size:small; color:pink;\">Imagine que uma função nos retorna quatro valores, mas queremos utilizar somente dois deles. Nesse caso, queremos somente o segundo e o último valor da tupla nomes_carros (a primeira posição e a terceira). Para isso, podemos usar o recurso do underscore (ou \"underline\"), da mesma forma que vimos nas listas."
   ]
  },
  {
   "cell_type": "code",
   "execution_count": 28,
   "metadata": {},
   "outputs": [],
   "source": [
    "#Escolhendo o segundo e último carro da tupla nome_carros\n",
    "_,A,_,B = nome_carros\n"
   ]
  },
  {
   "cell_type": "code",
   "execution_count": 29,
   "metadata": {},
   "outputs": [
    {
     "data": {
      "text/plain": [
       "'Passat'"
      ]
     },
     "execution_count": 29,
     "metadata": {},
     "output_type": "execute_result"
    }
   ],
   "source": [
    "A\n"
   ]
  },
  {
   "cell_type": "code",
   "execution_count": 30,
   "metadata": {},
   "outputs": [
    {
     "data": {
      "text/plain": [
       "'DS5'"
      ]
     },
     "execution_count": 30,
     "metadata": {},
     "output_type": "execute_result"
    }
   ],
   "source": [
    "B\n"
   ]
  },
  {
   "cell_type": "markdown",
   "metadata": {},
   "source": [
    "<span style=\"font-size:small; color:pink;\">Em outra situação, queremos somente um valor da nossa tupla, mas nenhum outro. Imagine se tivéssemos uma tupla com 60 itens e só gostaríamos de salvar o segundo. Com a sintaxe que acabamos de aprender, seria bastante trabalhoso recuperarmos esse valor.\n",
    "\n",
    "<span style=\"font-size:small; color:yellow;\">Para simplificar, podemos ignorar o primeiro valor com underscore, receber o segundo com uma variável (por exemplo C) e finalizar com asterisco seguido de underscore (*_). Dessa forma ignoraremos todos os valores posteriores."
   ]
  },
  {
   "cell_type": "code",
   "execution_count": 31,
   "metadata": {},
   "outputs": [],
   "source": [
    "# Queremos somente 1 valor da nossa Tupla, mas nenhum outro\n",
    "_,C,*_ = nome_carros\n"
   ]
  },
  {
   "cell_type": "code",
   "execution_count": 32,
   "metadata": {},
   "outputs": [
    {
     "data": {
      "text/plain": [
       "'Passat'"
      ]
     },
     "execution_count": 32,
     "metadata": {},
     "output_type": "execute_result"
    }
   ],
   "source": [
    "C\n"
   ]
  },
  {
   "cell_type": "markdown",
   "metadata": {},
   "source": [
    "<span style=\"font-size:small; color:pink;\">Existe também uma nova função nativa do Python, chamada zip(), que cria um iterador com tuplas (de maneira semelhante à função range()), e vamos entender como ela funciona. Para nossos testes, inicializaremos duas listas: carros, contendo os modelos de alguns veículos; e valores, com seus preços."
   ]
  },
  {
   "cell_type": "code",
   "execution_count": 35,
   "metadata": {},
   "outputs": [
    {
     "data": {
      "text/plain": [
       "['Jetta Variant', 'Passat', 'Crossfox', 'DS5']"
      ]
     },
     "execution_count": 35,
     "metadata": {},
     "output_type": "execute_result"
    }
   ],
   "source": [
    "carros = ['Jetta Variant', 'Passat','Crossfox','DS5']\n",
    "carros\n"
   ]
  },
  {
   "cell_type": "code",
   "execution_count": 34,
   "metadata": {},
   "outputs": [
    {
     "data": {
      "text/plain": [
       "[88078.64, 106161.94, 72832.16, 124549.07]"
      ]
     },
     "execution_count": 34,
     "metadata": {},
     "output_type": "execute_result"
    }
   ],
   "source": [
    "valores = [88078.64, 106161.94, 72832.16, 124549.07]\n",
    "valores\n"
   ]
  },
  {
   "cell_type": "markdown",
   "metadata": {},
   "source": [
    "<span style=\"font-size:small; color:pink;\">Chamaremos então a função zip() passando como parâmetros nossas duas listas."
   ]
  },
  {
   "cell_type": "code",
   "execution_count": 36,
   "metadata": {},
   "outputs": [
    {
     "data": {
      "text/plain": [
       "<zip at 0x15dfb1f3b00>"
      ]
     },
     "execution_count": 36,
     "metadata": {},
     "output_type": "execute_result"
    }
   ],
   "source": [
    "# Consolidando litas (no caso a lista de carros e valores)\n",
    "zip(carros, valores)\n"
   ]
  },
  {
   "cell_type": "code",
   "execution_count": 38,
   "metadata": {},
   "outputs": [
    {
     "data": {
      "text/plain": [
       "[('Jetta Variant', 88078.64),\n",
       " ('Passat', 106161.94),\n",
       " ('Crossfox', 72832.16),\n",
       " ('DS5', 124549.07)]"
      ]
     },
     "execution_count": 38,
     "metadata": {},
     "output_type": "execute_result"
    }
   ],
   "source": [
    "# Com o auxílio da função list(), podemos transformar esse iterador em uma lista de modo a visualizá-lo.\n",
    "list(zip(carros, valores))\n"
   ]
  },
  {
   "cell_type": "markdown",
   "metadata": {},
   "source": [
    "<span style=\"font-size:small; color:pink;\">Repare que, interessantemente, nosso iterador pegou o primeiro elemento de cada lista e criou uma tupla; depois o segundo elemento de cada lista, criando uma segunda tupla; e assim sucessivamente até o final da lista. Isso nos traz a possibilidade de, por exemplo, iterar o nome e o valor de um veículo ao mesmo tempo.\n",
    "<span style=\"font-size:small; color:pink;\">Faremos isso usando a instrução for que irá iterar pelo resultado de zip(carros, valores). Por enquanto apenas imprimiremos as tuplas resultantes.\n",
    "<span style=\"font-size:small; color:orange;\"> ** Iterar = percorrer um conjunto de elementos um por um"
   ]
  },
  {
   "cell_type": "code",
   "execution_count": 39,
   "metadata": {},
   "outputs": [
    {
     "name": "stdout",
     "output_type": "stream",
     "text": [
      "('Jetta Variant', 88078.64)\n",
      "('Passat', 106161.94)\n",
      "('Crossfox', 72832.16)\n",
      "('DS5', 124549.07)\n"
     ]
    }
   ],
   "source": [
    "for item in zip(carros, valores):\n",
    "    print(item)\n"
   ]
  },
  {
   "cell_type": "markdown",
   "metadata": {},
   "source": [
    "<span style=\"font-size:small; color:pink;\">Acabamos de aprender a fazer o desempacotamento de tuplas, e podemos fazer isso também com o for. Aqui, ao invés de item, passaremos dois nomes separados por vírgula: carro e valor. Também passaremos a imprimir ambas as variáveis (lembrando que o print() aceita mais de um argumento).\n"
   ]
  },
  {
   "cell_type": "code",
   "execution_count": 40,
   "metadata": {},
   "outputs": [
    {
     "name": "stdout",
     "output_type": "stream",
     "text": [
      "Jetta Variant 88078.64\n",
      "Passat 106161.94\n",
      "Crossfox 72832.16\n",
      "DS5 124549.07\n"
     ]
    }
   ],
   "source": [
    "for carro, valor in zip(carros,valores):\n",
    "    print(carro,valor)\n",
    "\n",
    "# Com isso, conseguiremos separar cada carro e valor individualmente em todas as tuplas desse iterador.\n"
   ]
  },
  {
   "cell_type": "markdown",
   "metadata": {},
   "source": [
    "<span style=\"font-size:small; color:pink;\">Isso nos traz diversas outras possibilidades de análise. Por exemplo, podemos incluir uma condicional if que imprime somente os carros cujo valor é maior do que 100000.\n"
   ]
  },
  {
   "cell_type": "code",
   "execution_count": 41,
   "metadata": {},
   "outputs": [
    {
     "name": "stdout",
     "output_type": "stream",
     "text": [
      "Passat\n",
      "DS5\n"
     ]
    }
   ],
   "source": [
    "for carro, valor in zip(carros, valores):\n",
    "    if(valor>100000):\n",
    "        print(carro)\n"
   ]
  },
  {
   "cell_type": "markdown",
   "metadata": {},
   "source": [
    "### Exercícios: Laços 'for' com Tuplas\n",
    "##### O procedimento de iteração em tuplas é o mesmo que aprendemos com listas, no treinamento anterior. Utilizamos a tupla como iterador de um laço for simples, ou alinhado, e conseguimos acesso a cada item individualmente.\n",
    "\n",
    "##### Para responder esta questão, considere a mesma tupla da atividade anterior:\n",
    "\n"
   ]
  },
  {
   "cell_type": "code",
   "execution_count": 42,
   "metadata": {},
   "outputs": [],
   "source": [
    "carros = (\n",
    "    (\n",
    "        'Jetta Variant',\n",
    "        'Motor 4.0 Turbo',\n",
    "        2003,\n",
    "        False,\n",
    "        ('Rodas de liga', 'Travas elétricas', 'Piloto automático')\n",
    "    ),\n",
    "    (\n",
    "        'Passat',\n",
    "        'Motor Diesel',\n",
    "        1991,\n",
    "        True,\n",
    "        ('Central multimídia', 'Teto panorâmico', 'Freios ABS')\n",
    "    )\n",
    ")\n"
   ]
  },
  {
   "cell_type": "markdown",
   "metadata": {},
   "source": [
    "Assinale a alternativa com o código que produz este resultado:\n",
    "\n",
    "Rodas de liga  \n",
    "Travas elétricas  \n",
    "Piloto automático  \n",
    "Central multimídia  \n",
    "Teto panorâmico  \n",
    "Freios ABS  "
   ]
  },
  {
   "cell_type": "code",
   "execution_count": 43,
   "metadata": {},
   "outputs": [
    {
     "name": "stdout",
     "output_type": "stream",
     "text": [
      "('Jetta Variant', 'Motor 4.0 Turbo', 2003, False, ('Rodas de liga', 'Travas elétricas', 'Piloto automático'))\n",
      "('Passat', 'Motor Diesel', 1991, True, ('Central multimídia', 'Teto panorâmico', 'Freios ABS'))\n"
     ]
    }
   ],
   "source": [
    "for tupla in carros:\n",
    "    print(tupla)\n"
   ]
  },
  {
   "cell_type": "code",
   "execution_count": 44,
   "metadata": {},
   "outputs": [
    {
     "name": "stdout",
     "output_type": "stream",
     "text": [
      "('Rodas de liga', 'Travas elétricas', 'Piloto automático')\n",
      "('Central multimídia', 'Teto panorâmico', 'Freios ABS')\n"
     ]
    }
   ],
   "source": [
    "for tupla in carros:\n",
    "    print(tupla[-1])\n"
   ]
  },
  {
   "cell_type": "code",
   "execution_count": 45,
   "metadata": {},
   "outputs": [
    {
     "name": "stdout",
     "output_type": "stream",
     "text": [
      "Jetta Variant\n",
      "Motor 4.0 Turbo\n",
      "2003\n",
      "False\n",
      "('Rodas de liga', 'Travas elétricas', 'Piloto automático')\n",
      "Passat\n",
      "Motor Diesel\n",
      "1991\n",
      "True\n",
      "('Central multimídia', 'Teto panorâmico', 'Freios ABS')\n"
     ]
    }
   ],
   "source": [
    "for tupla in carros:\n",
    "    for item in tupla:\n",
    "        print(item)\n"
   ]
  },
  {
   "cell_type": "code",
   "execution_count": 46,
   "metadata": {},
   "outputs": [
    {
     "name": "stdout",
     "output_type": "stream",
     "text": [
      "Rodas de liga\n",
      "Travas elétricas\n",
      "Piloto automático\n",
      "Central multimídia\n",
      "Teto panorâmico\n",
      "Freios ABS\n"
     ]
    }
   ],
   "source": [
    "for tupla in carros:\n",
    "    for item in tupla[-1]:\n",
    "        print(item)\n"
   ]
  },
  {
   "cell_type": "markdown",
   "metadata": {},
   "source": [
    "#### Exercício: FUNÇÃO ZIP()"
   ]
  },
  {
   "cell_type": "markdown",
   "metadata": {},
   "source": [
    "<span style=\"font-size:small; color:pink;\">Duas ferramentas bastante utilizadas quando iteramos com tuplas são o desempacotamento de tuplas e a built-in function zip().  \n",
    "Com o desempacotamento de tuplas, é possível fazer declarações conjuntas de variáveis e utilizar cada variável individualmente. Por exemplo:"
   ]
  },
  {
   "cell_type": "code",
   "execution_count": 47,
   "metadata": {},
   "outputs": [],
   "source": [
    "nome, valor = ('Passat', 100000.0)\n",
    "#A função zip() permite gerar um iterador de tuplas, como no exemplo abaixo:\n"
   ]
  },
  {
   "cell_type": "code",
   "execution_count": 48,
   "metadata": {},
   "outputs": [
    {
     "data": {
      "text/plain": [
       "[('Passat', 100000.0), ('Crossfox', 75000.0)]"
      ]
     },
     "execution_count": 48,
     "metadata": {},
     "output_type": "execute_result"
    }
   ],
   "source": [
    "# In [1]:\n",
    "nomes = ['Passat','Crossfox']\n",
    "valores = [100000.0, 75000.0]\n",
    "list(zip(nomes, valores))\n"
   ]
  },
  {
   "cell_type": "code",
   "execution_count": 49,
   "metadata": {},
   "outputs": [],
   "source": [
    "# Considerando as duas listas abaixo:\n",
    "nomes = ['Passat', 'Crossfox', 'DS5', 'C4', 'Jetta']\n",
    "kms = [15000, 12000, 32000, 8000, 50000]\n"
   ]
  },
  {
   "cell_type": "markdown",
   "metadata": {},
   "source": [
    "##### E utilizando o ferramental apresentado acima, marque a alternativa com o código que possibilita a impressão dos nomes dos veículos com quilometragem abaixo de 20.000 km."
   ]
  },
  {
   "cell_type": "code",
   "execution_count": 50,
   "metadata": {},
   "outputs": [
    {
     "name": "stdout",
     "output_type": "stream",
     "text": [
      "Passat 15000\n",
      "Crossfox 12000\n",
      "DS5 32000\n",
      "C4 8000\n",
      "Jetta 50000\n"
     ]
    }
   ],
   "source": [
    "for nome, km in zip (nomes, kms):\n",
    "    print(nome, km)\n"
   ]
  },
  {
   "cell_type": "code",
   "execution_count": 51,
   "metadata": {},
   "outputs": [
    {
     "name": "stdout",
     "output_type": "stream",
     "text": [
      "Passat\n",
      "Crossfox\n",
      "C4\n"
     ]
    }
   ],
   "source": [
    "# RESPOSTA CORRETA\n",
    "for nome, km in zip (nomes, kms):\n",
    "    if(km<20000):\n",
    "        print(nome)\n"
   ]
  },
  {
   "cell_type": "markdown",
   "metadata": {},
   "source": [
    "Nessa aula aprendemos:  \n",
    "\n",
    "O que são Tuplas  \n",
    "Formas de criação de uma Tupla  \n",
    "Técnicas de seleção de itens e fatiamento com Tuplas do Python  \n",
    "Formas de iterar por uma tupla  \n",
    "A técnica conhecida como Desempacotamento de Tuplas  \n",
    "A utilizar a built-in function = zip()"
   ]
  }
 ],
 "metadata": {
  "kernelspec": {
   "display_name": "Python 3",
   "language": "python",
   "name": "python3"
  },
  "language_info": {
   "codemirror_mode": {
    "name": "ipython",
    "version": 3
   },
   "file_extension": ".py",
   "mimetype": "text/x-python",
   "name": "python",
   "nbconvert_exporter": "python",
   "pygments_lexer": "ipython3",
   "version": "3.11.8"
  }
 },
 "nbformat": 4,
 "nbformat_minor": 2
}
