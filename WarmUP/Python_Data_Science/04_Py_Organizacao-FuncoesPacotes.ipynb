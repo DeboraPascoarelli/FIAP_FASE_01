{
 "cells": [
  {
   "cell_type": "markdown",
   "metadata": {},
   "source": [
    "#### 4. FUNCOES\n",
    "<span style='font-size:14px;'>Funções são unidades de código reutilizáveis que realizam uma tarefa específica, podem receber alguma entrada e também podem retornar algum resultado.\n",
    "\n",
    "\n"
   ]
  },
  {
   "cell_type": "markdown",
   "metadata": {},
   "source": [
    "4.1 Built-in Function"
   ]
  },
  {
   "cell_type": "code",
   "execution_count": 2,
   "metadata": {},
   "outputs": [
    {
     "data": {
      "text/plain": [
       "{'Jetta Variant': 88078.64, 'Passat': 106161.94, 'Crossfox': 72832.16}"
      ]
     },
     "execution_count": 2,
     "metadata": {},
     "output_type": "execute_result"
    }
   ],
   "source": [
    "dados = {'Jetta Variant': 88078.64, 'Passat': 106161.94, 'Crossfox': 72832.16}\n",
    "dados\n"
   ]
  },
  {
   "cell_type": "markdown",
   "metadata": {},
   "source": [
    "<span style='font-size:14px;'>Queremos obter a somatória dos valores dos veículos desse conjunto, algo que pode ser obtido de algumas formas mais complexas e de outras mais simples. Começaremos pelas mais complexas: criaremos uma lista vazia valores e iniciaremos um iterador for chamando cada item encontrado em dados.values() de valor e adicionando tais valores na lista por meio da função append()."
   ]
  },
  {
   "cell_type": "code",
   "execution_count": 3,
   "metadata": {},
   "outputs": [
    {
     "data": {
      "text/plain": [
       "[88078.64, 106161.94, 72832.16]"
      ]
     },
     "execution_count": 3,
     "metadata": {},
     "output_type": "execute_result"
    }
   ],
   "source": [
    "valores=[]\n",
    "\n",
    "for valor in dados.values():\n",
    "    valores.append(valor)\n",
    "valores\n"
   ]
  },
  {
   "cell_type": "markdown",
   "metadata": {},
   "source": [
    "<span style='font-size:14px;'>Uma forma um pouco enxuta de obtermos a somatória é criando uma variável soma que se iniciará com 0, iterando pelos valores com dados.values() e, ao invés de adicioná-los a uma lista, somá-los diretamente à variável criada anteriormente com soma += valor."
   ]
  },
  {
   "cell_type": "code",
   "execution_count": 14,
   "metadata": {},
   "outputs": [
    {
     "data": {
      "text/plain": [
       "267072.74"
      ]
     },
     "execution_count": 14,
     "metadata": {},
     "output_type": "execute_result"
    }
   ],
   "source": [
    "soma = 0\n",
    "for valor in dados.values(): # Aqui está fazendo uma iteração, ou seja, percorrendo linha por linha\n",
    "  soma += valor # soma que é igual a 0 + próximo valor, + próximo valor + próximo valor (0 da variável + 88078.64 + 106161.94 + 72832.16 --> que são os valores da lista)\n",
    "soma\n"
   ]
  },
  {
   "cell_type": "markdown",
   "metadata": {},
   "source": [
    "<span style=\"font-size:14px;\">Dentre as built-in functions do Python, existe uma que pode tornar nosso código ainda mais simples: sum(), que é justamente \"soma\" em inglês. Na documentação da função sum() verificaremos que a função pode receber dois parâmetros: um iterador iterable e um start. Este último aparece entre colchetes, o que significa duas coisas: que o parâmetro possui um valor padrão e que ele é dispensável - ou seja, que não é necessário fornecê-lo à função para que ela nos retorne um valor.\n",
    "\n",
    "Antes de utilizarmos essa função, repare na devolução da chamada list(dados.values()):"
   ]
  },
  {
   "cell_type": "code",
   "execution_count": 15,
   "metadata": {},
   "outputs": [
    {
     "data": {
      "text/plain": [
       "[88078.64, 106161.94, 72832.16]"
      ]
     },
     "execution_count": 15,
     "metadata": {},
     "output_type": "execute_result"
    }
   ],
   "source": [
    "list(dados.values())\n"
   ]
  },
  {
   "cell_type": "markdown",
   "metadata": {},
   "source": [
    "<span style=\"font-size:14px;\">Aqui conseguimos obter uma lista com todos os valores do nosso dicionário, da mesma maneira que anteriormente, mas utilizando um código bem mais simples e sucinto. A soma (sum()) operará da mesma forma, bastando passarmos como parâmetro o nosso dados.values()"
   ]
  },
  {
   "cell_type": "code",
   "execution_count": 16,
   "metadata": {},
   "outputs": [
    {
     "data": {
      "text/plain": [
       "267072.74"
      ]
     },
     "execution_count": 16,
     "metadata": {},
     "output_type": "execute_result"
    }
   ],
   "source": [
    "sum(dados.values())\n"
   ]
  },
  {
   "cell_type": "markdown",
   "metadata": {},
   "source": [
    "<span style=\"font-size:14px;\">Nosso resultado é a soma de todos os valores do dicionário dados, executada de maneira bastante resumida. O parâmetro start dessa função significa que podemos iniciar a soma já com algum valor. Isso pode ser feito simplesmente passando o valor desejado após uma vírgula.\n"
   ]
  },
  {
   "cell_type": "code",
   "execution_count": 17,
   "metadata": {},
   "outputs": [
    {
     "data": {
      "text/plain": [
       "1267072.7399999998"
      ]
     },
     "execution_count": 17,
     "metadata": {},
     "output_type": "execute_result"
    }
   ],
   "source": [
    "# Assim, a nossa soma será adicionada ao valor inicial - nesse caso, um milhão.\n",
    "sum(dados.values(), 1000000)\n"
   ]
  },
  {
   "cell_type": "markdown",
   "metadata": {},
   "source": [
    "<span style=\"font-size:14px;\">Quando precisamos entender determinadas funcionalidades, é interessante consultarmos a documentação. O Python possui também uma função nativa help() para qual podemos passar, como parâmetro, a função sobre a qual queremos mais informações - por exemplo, print."
   ]
  },
  {
   "cell_type": "code",
   "execution_count": 18,
   "metadata": {},
   "outputs": [
    {
     "name": "stdout",
     "output_type": "stream",
     "text": [
      "Help on built-in function print in module builtins:\n",
      "\n",
      "print(*args, sep=' ', end='\\n', file=None, flush=False)\n",
      "    Prints the values to a stream, or to sys.stdout by default.\n",
      "    \n",
      "    sep\n",
      "      string inserted between values, default a space.\n",
      "    end\n",
      "      string appended after the last value, default a newline.\n",
      "    file\n",
      "      a file-like object (stream); defaults to the current sys.stdout.\n",
      "    flush\n",
      "      whether to forcibly flush the stream.\n",
      "\n"
     ]
    }
   ],
   "source": [
    "help(print)\n"
   ]
  },
  {
   "cell_type": "markdown",
   "metadata": {},
   "source": [
    "Outra forma de acessarmos esse conteúdo no Colab é passarmos, depois do nome da função, uma interrogação."
   ]
  },
  {
   "cell_type": "code",
   "execution_count": 19,
   "metadata": {},
   "outputs": [
    {
     "name": "stdout",
     "output_type": "stream",
     "text": [
      "\u001b[1;31mSignature:\u001b[0m \u001b[0mprint\u001b[0m\u001b[1;33m(\u001b[0m\u001b[1;33m*\u001b[0m\u001b[0margs\u001b[0m\u001b[1;33m,\u001b[0m \u001b[0msep\u001b[0m\u001b[1;33m=\u001b[0m\u001b[1;34m' '\u001b[0m\u001b[1;33m,\u001b[0m \u001b[0mend\u001b[0m\u001b[1;33m=\u001b[0m\u001b[1;34m'\\n'\u001b[0m\u001b[1;33m,\u001b[0m \u001b[0mfile\u001b[0m\u001b[1;33m=\u001b[0m\u001b[1;32mNone\u001b[0m\u001b[1;33m,\u001b[0m \u001b[0mflush\u001b[0m\u001b[1;33m=\u001b[0m\u001b[1;32mFalse\u001b[0m\u001b[1;33m)\u001b[0m\u001b[1;33m\u001b[0m\u001b[1;33m\u001b[0m\u001b[0m\n",
      "\u001b[1;31mDocstring:\u001b[0m\n",
      "Prints the values to a stream, or to sys.stdout by default.\n",
      "\n",
      "sep\n",
      "  string inserted between values, default a space.\n",
      "end\n",
      "  string appended after the last value, default a newline.\n",
      "file\n",
      "  a file-like object (stream); defaults to the current sys.stdout.\n",
      "flush\n",
      "  whether to forcibly flush the stream.\n",
      "\u001b[1;31mType:\u001b[0m      builtin_function_or_method"
     ]
    }
   ],
   "source": [
    "print?\n"
   ]
  },
  {
   "cell_type": "markdown",
   "metadata": {},
   "source": [
    "4.2 Definindo Funções com e sem Parâmetros\n",
    "  \n",
    "Sintaxe: Função sem parâmetro\n",
    "  \n",
    "'def <nome_da_função>():  \n",
    "    <intruções>'  \n",
    "  \n",
    "<span style=\"font-size:14px;\">Já conhecemos as built-in functions, mas e se quisermos resolver um problema específico para o qual não disponibilizamos de uma função pronta? Nesse caso, precisaremos criar nossas próprias funções - principalmente se for necessário utilizá-las em vários pontos do nosso código, afinal, funções são trechos de código reutilizáveis que permitem resolver problemas específicos."
   ]
  },
  {
   "cell_type": "code",
   "execution_count": 3,
   "metadata": {},
   "outputs": [],
   "source": [
    "# Seguindo esse padrão, criaremos nossa função media().\n",
    "\n",
    "def media():\n",
    "    valor = (1+2+3)/3\n",
    "    print(valor)\n"
   ]
  },
  {
   "cell_type": "code",
   "execution_count": 4,
   "metadata": {},
   "outputs": [
    {
     "name": "stdout",
     "output_type": "stream",
     "text": [
      "2.0\n"
     ]
    }
   ],
   "source": [
    "media()\n"
   ]
  },
  {
   "cell_type": "markdown",
   "metadata": {},
   "source": [
    "Sintaxe: Função com Parâmetro\n",
    "\n",
    "def <nome_da_funcao>(<param_1>, <param_2>, ..., <param_n>):  \n",
    "    <instruções>"
   ]
  },
  {
   "cell_type": "code",
   "execution_count": 9,
   "metadata": {},
   "outputs": [],
   "source": [
    "def media(number_1, number_2, number_3):\n",
    "    valor = (number_1+ number_2+ number_3)/3\n",
    "    print(valor)\n"
   ]
  },
  {
   "cell_type": "markdown",
   "metadata": {},
   "source": [
    "<span style=\"font-size:14px;\">Ao executarmos, a função será salva na memória e poderá ser utilizada em qualquer ponto do nosso notebook. Agora poderemos chamar a função media() passando três valores quaisquer - nesse caso, 1, 2 e 3."
   ]
  },
  {
   "cell_type": "code",
   "execution_count": 10,
   "metadata": {},
   "outputs": [
    {
     "name": "stdout",
     "output_type": "stream",
     "text": [
      "2.0\n"
     ]
    }
   ],
   "source": [
    "media(1,2,3)\n"
   ]
  },
  {
   "cell_type": "code",
   "execution_count": 11,
   "metadata": {},
   "outputs": [
    {
     "name": "stdout",
     "output_type": "stream",
     "text": [
      "45.0\n"
     ]
    }
   ],
   "source": [
    "# A diferença é que agora podemos passar qualquer outro valor, como 23, 45 e 67.\n",
    "\n",
    "media(23, 45, 67)\n"
   ]
  },
  {
   "cell_type": "markdown",
   "metadata": {},
   "source": [
    "<span style=\"font-size:14px;\">Outro ponto interessante é que, ao invés de passarmos esses valores sequencias, podemos utilizar uma lista. Criaremos outra função media(), que dessa vez recebe como parâmetro uma lista. Nas instruções, faremos o cálculo da média com o auxílio das built-in functions do Python: usaremos a função sum() para somarmos os itens da lista e dividiremos o resultado por len(lista), ou seja, a quantidade de valores que foram somados. Por fim, imprimiremos o valor."
   ]
  },
  {
   "cell_type": "code",
   "execution_count": 12,
   "metadata": {},
   "outputs": [],
   "source": [
    "def media(lista):\n",
    "    valor = sum(lista)/len(lista)\n",
    "    print (valor)\n"
   ]
  },
  {
   "cell_type": "code",
   "execution_count": 13,
   "metadata": {},
   "outputs": [
    {
     "name": "stdout",
     "output_type": "stream",
     "text": [
      "5.0\n"
     ]
    }
   ],
   "source": [
    "# Com isso, não teremos mais a limitação de calcularmos sempre a média de três valores. Nesse exemplo, passaremos uma lista com 9 valores: (Mas poderia ser quantos quiser)\n",
    "\n",
    "media([1,2,3,4,5,6,7,8,9])\n"
   ]
  },
  {
   "cell_type": "code",
   "execution_count": 14,
   "metadata": {},
   "outputs": [],
   "source": [
    "dados = {\n",
    "    'Crossfox': {'km': 35000, 'ano': 2005}, \n",
    "    'DS5': {'km': 17000, 'ano': 2015}, \n",
    "    'Fusca': {'km': 130000, 'ano': 1979}, \n",
    "    'Jetta': {'km': 56000, 'ano': 2011}, \n",
    "    'Passat': {'km': 62000, 'ano': 1999}\n",
    "}\n"
   ]
  },
  {
   "cell_type": "code",
   "execution_count": 34,
   "metadata": {},
   "outputs": [],
   "source": [
    "def km_media(dataset, ano_atual): # estrutura para chamar a função\n",
    "    for item in dados.items(): # aqui estou utilizando 'dados', que até dá certo, mas o correto é usar o mesmo nome que coloquei entre parenteses no mome da função (dataset)\n",
    "        result = item[1]['km'] / (ano_atual - item[1]['ano'])\n",
    "        print(result)\n"
   ]
  },
  {
   "cell_type": "code",
   "execution_count": 36,
   "metadata": {},
   "outputs": [],
   "source": [
    "def km_media(dataset, ano_atual):\n",
    "    for item in dataset.items():\n",
    "        result = item[1]['km'] / (ano_atual - item[1]['ano'])\n",
    "        print(result)\n"
   ]
  },
  {
   "cell_type": "code",
   "execution_count": 35,
   "metadata": {},
   "outputs": [
    {
     "name": "stdout",
     "output_type": "stream",
     "text": [
      "2500.0\n",
      "4250.0\n",
      "3250.0\n",
      "7000.0\n",
      "3100.0\n"
     ]
    }
   ],
   "source": [
    "km_media(dados, 2019)\n"
   ]
  },
  {
   "cell_type": "markdown",
   "metadata": {},
   "source": [
    "1- Declaração da Função:\n",
    "\n",
    "def km_media(dataset, ano_atual):  \n",
    "def: Indica que estamos definindo uma função.  \n",
    "km_media: Nome da função.  \n",
    "(dataset, ano_atual): Parâmetros que a função recebe. dataset é o conjunto de dados que queremos analisar e ano_atual é o ano atual que usaremos nos cálculos.  \n",
    "  \n",
    "2-Loop For:  \n",
    "  \n",
    "for item in dados.items():  \n",
    "for: Inicia um loop.  \n",
    "item: Variável que representa cada elemento (chave-valor) do dicionário dados.  \n",
    "dados.items(): Retorna uma lista de tuplas, onde cada tupla contém uma chave e o seu valor correspondente do dicionário dados.  \n",
    "  \n",
    "3-Cálculo da Média de Quilometragem:  \n",
    "  \n",
    "result = item[1]['km'] / (ano_atual - item[1]['ano'])  \n",
    "item[1]['km']: Acessa o valor associado à chave 'km' no dicionário interno (valor) de item. Isso nos dá o número de quilômetros.  \n",
    "item[1]['ano']: Acessa o valor associado à chave 'ano' no dicionário interno (valor) de item. Isso nos dá o ano de fabricação do carro.  \n",
    "ano_atual - item[1]['ano']: Calcula a diferença entre o ano atual e o ano de fabricação do carro. Isso nos dá a idade do carro.  \n",
    "result: Armazena o resultado do cálculo da média de quilometragem na variável result.  \n",
    "  \n",
    "4-Impressão do Resultado:  \n",
    "  \n",
    "print(result): Imprime o resultado do cálculo da média de quilometragem na tela.  \n",
    "  \n",
    "Em resumo, a função km_media() calcula e imprime a média de quilometragem por ano para cada carro no conjunto de dados, com base no ano atual fornecido como entrada."
   ]
  },
  {
   "cell_type": "markdown",
   "metadata": {},
   "source": [
    "4.3 Definindo Funções que retornam valores"
   ]
  },
  {
   "cell_type": "markdown",
   "metadata": {},
   "source": [
    "Formato Padrão / Sintaxe\n",
    "\n",
    "def <nome_função>(param_1),(param_2),...,(param_n):  \n",
    "    <instruções>  \n",
    "    return<resultado>"
   ]
  },
  {
   "cell_type": "code",
   "execution_count": 37,
   "metadata": {},
   "outputs": [],
   "source": [
    "def media(lista):\n",
    "    valor = sum(lista) / len(lista)\n",
    "    return valor\n",
    "                                    "
   ]
  },
  {
   "cell_type": "code",
   "execution_count": 38,
   "metadata": {},
   "outputs": [
    {
     "data": {
      "text/plain": [
       "4.5"
      ]
     },
     "execution_count": 38,
     "metadata": {},
     "output_type": "execute_result"
    }
   ],
   "source": [
    "media([1,2,3,4,5,6,7,8])\n"
   ]
  },
  {
   "cell_type": "code",
   "execution_count": 39,
   "metadata": {},
   "outputs": [],
   "source": [
    "# atribuindo uma variável ao resultado acima\n",
    "resultado = media([1,2,3,4,5,6,7,8])\n"
   ]
  },
  {
   "cell_type": "code",
   "execution_count": 40,
   "metadata": {},
   "outputs": [
    {
     "data": {
      "text/plain": [
       "4.5"
      ]
     },
     "execution_count": 40,
     "metadata": {},
     "output_type": "execute_result"
    }
   ],
   "source": [
    "resultado\n"
   ]
  },
  {
   "cell_type": "code",
   "execution_count": 43,
   "metadata": {},
   "outputs": [],
   "source": [
    "# Também é possível que retornar mais de um valor: Neste caso, retorna a média e quantidade de itens (tamanho da lista)\n",
    "def media(lista):\n",
    "    valor = sum(lista) / len(lista)\n",
    "    return (valor, len(lista))\n"
   ]
  },
  {
   "cell_type": "code",
   "execution_count": 47,
   "metadata": {},
   "outputs": [
    {
     "data": {
      "text/plain": [
       "(5.0, 9)"
      ]
     },
     "execution_count": 47,
     "metadata": {},
     "output_type": "execute_result"
    }
   ],
   "source": [
    "media([1,2,3,4,5,6,7,8,9])\n"
   ]
  },
  {
   "cell_type": "code",
   "execution_count": 51,
   "metadata": {},
   "outputs": [
    {
     "data": {
      "text/plain": [
       "5.0"
      ]
     },
     "execution_count": 51,
     "metadata": {},
     "output_type": "execute_result"
    }
   ],
   "source": [
    "# uma variável com o resultado da média + o tamanho da lista\n",
    "resultado, n = media([1, 2, 3, 4, 5, 6, 7, 8, 9])\n",
    "resultado\n"
   ]
  },
  {
   "cell_type": "code",
   "execution_count": 52,
   "metadata": {},
   "outputs": [
    {
     "data": {
      "text/plain": [
       "9"
      ]
     },
     "execution_count": 52,
     "metadata": {},
     "output_type": "execute_result"
    }
   ],
   "source": [
    "n\n"
   ]
  },
  {
   "cell_type": "code",
   "execution_count": 53,
   "metadata": {},
   "outputs": [
    {
     "data": {
      "text/plain": [
       "5.0"
      ]
     },
     "execution_count": 53,
     "metadata": {},
     "output_type": "execute_result"
    }
   ],
   "source": [
    "resultado\n"
   ]
  },
  {
   "cell_type": "code",
   "execution_count": 54,
   "metadata": {},
   "outputs": [
    {
     "data": {
      "text/plain": [
       "9"
      ]
     },
     "execution_count": 54,
     "metadata": {},
     "output_type": "execute_result"
    }
   ],
   "source": [
    "n\n"
   ]
  },
  {
   "cell_type": "code",
   "execution_count": null,
   "metadata": {},
   "outputs": [],
   "source": []
  },
  {
   "cell_type": "markdown",
   "metadata": {},
   "source": [
    "Melhorando essa Função"
   ]
  },
  {
   "cell_type": "markdown",
   "metadata": {},
   "source": [
    "<span style=\"font-size:14px;\">Aprendemos em nosso último vídeo como criar funções que retornam valores, e é isso que precisamos para resolver este problema. A estrutura a seguir é a definição de uma função que calcula as quilometragens médias anuais de cada veículo e retorna um dicionário com os nomes dos veículos como chaves e as quilometragens médias como valores:"
   ]
  },
  {
   "cell_type": "code",
   "execution_count": null,
   "metadata": {},
   "outputs": [],
   "source": [
    "dados = {\n",
    "    'Crossfox': {'km': 35000, 'ano': 2005}, \n",
    "    'DS5': {'km': 17000, 'ano': 2015}, \n",
    "    'Fusca': {'km': 130000, 'ano': 1979}, \n",
    "    'Jetta': {'km': 56000, 'ano': 2011}, \n",
    "    'Passat': {'km': 62000, 'ano': 1999}\n",
    "}\n"
   ]
  },
  {
   "cell_type": "code",
   "execution_count": 56,
   "metadata": {},
   "outputs": [],
   "source": [
    "def km_media(dataset,ano_atual):\n",
    "    result = {} # para retornar um dicionario\n",
    "    for item in dataset.items():\n",
    "        media = item[1]['km'] / (ano_atual - item[1]['ano'])\n",
    "        result.update({item[0]:media}) # Adiciona uma nova entrada ao dicionário result, onde a chave é o nome do carro(item[0]) e o valor é a média de quilometragem (media).\n",
    "    return result\n"
   ]
  },
  {
   "cell_type": "code",
   "execution_count": 57,
   "metadata": {},
   "outputs": [
    {
     "data": {
      "text/plain": [
       "{'Crossfox': 2500.0,\n",
       " 'DS5': 4250.0,\n",
       " 'Fusca': 3250.0,\n",
       " 'Jetta': 7000.0,\n",
       " 'Passat': 3100.0}"
      ]
     },
     "execution_count": 57,
     "metadata": {},
     "output_type": "execute_result"
    }
   ],
   "source": [
    "km_media(dados, 2019)\n"
   ]
  },
  {
   "cell_type": "markdown",
   "metadata": {},
   "source": [
    "Elaborando um pouco mais a Função"
   ]
  },
  {
   "cell_type": "markdown",
   "metadata": {},
   "source": [
    "<span style=\"font-size:14px;\">A nossa função km_media() já retorna valores que podem ser trabalhados em outras partes do nosso projeto. Uma elaboração extra, que também pode ser interessante, principalmente para a criação de DataFrames (próximas aulas), é a atualização do próprio input da função. Podemos fazer com que a nossa função retorne as informações do dicionário dados, incluindo as informações de quilometragem média anual.\n",
    "\n",
    "<span style=\"font-size:14px;\">A estrutura a seguir é a definição de uma função que calcula as quilometragens médias anuais de cada veículo, atualiza o dicionário de entrada e retorna este dicionário:"
   ]
  },
  {
   "cell_type": "code",
   "execution_count": null,
   "metadata": {},
   "outputs": [],
   "source": [
    "dados = {\n",
    "    'Crossfox': {'km': 35000, 'ano': 2005}, \n",
    "    'DS5': {'km': 17000, 'ano': 2015}, \n",
    "    'Fusca': {'km': 130000, 'ano': 1979}, \n",
    "    'Jetta': {'km': 56000, 'ano': 2011}, \n",
    "    'Passat': {'km': 62000, 'ano': 1999}\n",
    "}\n"
   ]
  },
  {
   "cell_type": "code",
   "execution_count": 58,
   "metadata": {},
   "outputs": [],
   "source": [
    "def km_media(dataset, ano_atual):\n",
    "    result={} # linha 3 a 6 é tudo o que eu devo ter dentro do result / resultado desta função\n",
    "    for item in dataset.items(): # para cada item/linha do dataset terei:\n",
    "        media = item[1]['km'] / (ano_atual - item[1]['ano']) #media de quilomentragem,\n",
    "        item[1].update({'km_media': media}) #estou acrescentando esta informação no dicionário / , a informação (nova) 'km_media' e o valor da quilometragem da média (linha4)\n",
    "        result.update({item[0]:item[1]}) # a informação acima será alocada no item [0] = chave e no item [1] = valores correspondentes as chaves\n",
    "    return result\n"
   ]
  },
  {
   "cell_type": "code",
   "execution_count": 59,
   "metadata": {},
   "outputs": [
    {
     "data": {
      "text/plain": [
       "{'Crossfox': {'km': 35000, 'ano': 2005, 'km_media': 2500.0},\n",
       " 'DS5': {'km': 17000, 'ano': 2015, 'km_media': 4250.0},\n",
       " 'Fusca': {'km': 130000, 'ano': 1979, 'km_media': 3250.0},\n",
       " 'Jetta': {'km': 56000, 'ano': 2011, 'km_media': 7000.0},\n",
       " 'Passat': {'km': 62000, 'ano': 1999, 'km_media': 3100.0}}"
      ]
     },
     "execution_count": 59,
     "metadata": {},
     "output_type": "execute_result"
    }
   ],
   "source": [
    "km_media(dados, 2019)\n"
   ]
  },
  {
   "cell_type": "markdown",
   "metadata": {},
   "source": [
    "Nesta aula, aprendemos:  \n",
    "  \n",
    "A utilizar built-in functions no Python  \n",
    "A consultar a documentação do Python  \n",
    "Como definir funções com e sem o uso de argumentos  \n",
    "Como definir funções que retornam valores  "
   ]
  }
 ],
 "metadata": {
  "kernelspec": {
   "display_name": "Python 3",
   "language": "python",
   "name": "python3"
  },
  "language_info": {
   "codemirror_mode": {
    "name": "ipython",
    "version": 3
   },
   "file_extension": ".py",
   "mimetype": "text/x-python",
   "name": "python",
   "nbconvert_exporter": "python",
   "pygments_lexer": "ipython3",
   "version": "3.11.8"
  }
 },
 "nbformat": 4,
 "nbformat_minor": 2
}
